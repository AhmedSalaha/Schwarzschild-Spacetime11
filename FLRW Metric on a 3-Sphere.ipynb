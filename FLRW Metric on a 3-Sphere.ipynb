{
 "cells": [
  {
   "cell_type": "markdown",
   "metadata": {},
   "source": [
    "Schwarzschild Spacetime and Friedmann-Lemaitre-Robertson-Walker CosmologyZachary \n",
    "Cohen"
   ]
  },
  {
   "cell_type": "markdown",
   "metadata": {},
   "source": [
    "The spherical FLRW metric"
   ]
  },
  {
   "cell_type": "markdown",
   "metadata": {},
   "source": [
    "https://opencommons.uconn.edu/cgi/viewcontent.cgi?article=1464&context=srhonors_theses"
   ]
  },
  {
   "cell_type": "code",
   "execution_count": 1,
   "metadata": {
    "collapsed": true
   },
   "outputs": [],
   "source": [
    "from GrTiPy import *\n",
    "init_printing()"
   ]
  },
  {
   "cell_type": "code",
   "execution_count": 2,
   "metadata": {
    "collapsed": false
   },
   "outputs": [],
   "source": [
    "d=4\n",
    "t, psi, theta, phi= symbols('t  psi theta phi ')\n",
    "u=np.array([t, psi, theta, phi])"
   ]
  },
  {
   "cell_type": "code",
   "execution_count": 3,
   "metadata": {
    "collapsed": true
   },
   "outputs": [],
   "source": [
    "a = Function('a')(t)\n",
    "g00 =   -1\n",
    "g11 =  a**2\n",
    "g22 =  a**2*sin(psi)**2\n",
    "g33 =  a**2*sin(psi)**2*sin(theta)**2\n",
    "g=np.array([[g00,0,0,0],[0,g11,0,0],\\\n",
    "            [0,0,g22,0],[0,0,0,g33]])\n",
    "gin=inverse_metric(g)"
   ]
  },
  {
   "cell_type": "code",
   "execution_count": 4,
   "metadata": {
    "collapsed": false
   },
   "outputs": [
    {
     "name": "stdout",
     "output_type": "stream",
     "text": [
      "gamma( t psi psi )= a(t)*Derivative(a(t), t)\n",
      "gamma( t theta theta )= a(t)*sin(psi)**2*Derivative(a(t), t)\n",
      "gamma( t phi phi )= a(t)*sin(psi)**2*sin(theta)**2*Derivative(a(t), t)\n",
      "gamma( psi t psi )= Derivative(a(t), t)/a(t)\n",
      "gamma( psi psi t )= Derivative(a(t), t)/a(t)\n",
      "gamma( psi theta theta )= -sin(2*psi)/2\n",
      "gamma( psi phi phi )= -sin(psi)*sin(theta)**2*cos(psi)\n",
      "gamma( theta t theta )= Derivative(a(t), t)/a(t)\n",
      "gamma( theta psi theta )= 1/tan(psi)\n",
      "gamma( theta theta t )= Derivative(a(t), t)/a(t)\n",
      "gamma( theta theta psi )= 1/tan(psi)\n",
      "gamma( theta phi phi )= -sin(2*theta)/2\n",
      "gamma( phi t phi )= Derivative(a(t), t)/a(t)\n",
      "gamma( phi psi phi )= 1/tan(psi)\n",
      "gamma( phi theta phi )= 1/tan(theta)\n",
      "gamma( phi phi t )= Derivative(a(t), t)/a(t)\n",
      "gamma( phi phi psi )= 1/tan(psi)\n",
      "gamma( phi phi theta )= 1/tan(theta)\n"
     ]
    }
   ],
   "source": [
    "for i in range(d):\n",
    "    for j in range(d):\n",
    "        for k in range(d):\n",
    "            if Christoffel_n_ab(d,u,g,gin,i,j,k) !=0:\n",
    "                print(\"gamma(\", u[i] ,u[j],u[k], \")=\"\\\n",
    "                , simplify(Christoffel_n_ab(d,u,g,gin,i,j,k)))"
   ]
  },
  {
   "cell_type": "code",
   "execution_count": 5,
   "metadata": {
    "collapsed": false
   },
   "outputs": [
    {
     "data": {
      "image/png": "[encoded data removed]",
      "text/latex": [
       "$$a{\\left (t \\right )} \\sin^{2}{\\left (\\psi \\right )} \\frac{d}{d t} a{\\left (t \\right )}$$"
      ],
      "text/plain": [
       "        2    d       \n",
       "a(t)⋅sin (ψ)⋅──(a(t))\n",
       "             dt      "
      ]
     },
     "execution_count": 5,
     "metadata": {},
     "output_type": "execute_result"
    }
   ],
   "source": [
    "Christoffel_n_ab(d,u,g,gin,0,2,2)"
   ]
  },
  {
   "cell_type": "code",
   "execution_count": 6,
   "metadata": {
    "collapsed": false
   },
   "outputs": [
    {
     "data": {
      "image/png": "[encoded data removed]",
      "text/latex": [
       "$$- \\frac{3 \\frac{d^{2}}{d t^{2}}  a{\\left (t \\right )}}{a{\\left (t \\right )}}$$"
      ],
      "text/plain": [
       "     2       \n",
       "    d        \n",
       "-3⋅───(a(t)) \n",
       "     2       \n",
       "   dt        \n",
       "─────────────\n",
       "     a(t)    "
      ]
     },
     "execution_count": 6,
     "metadata": {},
     "output_type": "execute_result"
    }
   ],
   "source": [
    "Ricci_Tensor_ab(d,u,g,gin,0,0)"
   ]
  },
  {
   "cell_type": "code",
   "execution_count": 7,
   "metadata": {
    "collapsed": false
   },
   "outputs": [
    {
     "data": {
      "image/png": "[encoded data removed]",
      "text/latex": [
       "$$\\left(a{\\left (t \\right )} \\frac{d^{2}}{d t^{2}}  a{\\left (t \\right )} + 2 \\frac{d}{d t} a{\\left (t \\right )}^{2} + 2\\right) \\sin^{2}{\\left (\\psi \\right )}$$"
      ],
      "text/plain": [
       "⎛       2                     2    ⎞        \n",
       "⎜      d            ⎛d       ⎞     ⎟    2   \n",
       "⎜a(t)⋅───(a(t)) + 2⋅⎜──(a(t))⎟  + 2⎟⋅sin (ψ)\n",
       "⎜       2           ⎝dt      ⎠     ⎟        \n",
       "⎝     dt                           ⎠        "
      ]
     },
     "execution_count": 7,
     "metadata": {},
     "output_type": "execute_result"
    }
   ],
   "source": [
    "Ricci_Tensor_ab(d,u,g,gin,2,2)"
   ]
  },
  {
   "cell_type": "code",
   "execution_count": 8,
   "metadata": {
    "collapsed": false
   },
   "outputs": [
    {
     "data": {
      "image/png": "[encoded data removed]",
      "text/latex": [
       "$$a{\\left (t \\right )} \\frac{d^{2}}{d t^{2}}  a{\\left (t \\right )} + 2 \\frac{d}{d t} a{\\left (t \\right )}^{2} + 2$$"
      ],
      "text/plain": [
       "       2                     2    \n",
       "      d            ⎛d       ⎞     \n",
       "a(t)⋅───(a(t)) + 2⋅⎜──(a(t))⎟  + 2\n",
       "       2           ⎝dt      ⎠     \n",
       "     dt                           "
      ]
     },
     "execution_count": 8,
     "metadata": {},
     "output_type": "execute_result"
    }
   ],
   "source": [
    "Ricci_Tensor_ab(d,u,g,gin,1,1)"
   ]
  },
  {
   "cell_type": "code",
   "execution_count": 9,
   "metadata": {
    "collapsed": false
   },
   "outputs": [
    {
     "data": {
      "image/png": "[encoded data removed]",
      "text/latex": [
       "$$\\left(a{\\left (t \\right )} \\frac{d^{2}}{d t^{2}}  a{\\left (t \\right )} + 2 \\frac{d}{d t} a{\\left (t \\right )}^{2} + 2\\right) \\sin^{2}{\\left (\\psi \\right )} \\sin^{2}{\\left (\\theta \\right )}$$"
      ],
      "text/plain": [
       "⎛       2                     2    ⎞                \n",
       "⎜      d            ⎛d       ⎞     ⎟    2       2   \n",
       "⎜a(t)⋅───(a(t)) + 2⋅⎜──(a(t))⎟  + 2⎟⋅sin (ψ)⋅sin (θ)\n",
       "⎜       2           ⎝dt      ⎠     ⎟                \n",
       "⎝     dt                           ⎠                "
      ]
     },
     "execution_count": 9,
     "metadata": {},
     "output_type": "execute_result"
    }
   ],
   "source": [
    "Ricci_Tensor_ab(d,u,g,gin,3,3)"
   ]
  },
  {
   "cell_type": "code",
   "execution_count": 10,
   "metadata": {
    "collapsed": false
   },
   "outputs": [
    {
     "data": {
      "image/png": "[encoded data removed]",
      "text/latex": [
       "$$\\frac{6 \\frac{d^{2}}{d t^{2}}  a{\\left (t \\right )}}{a{\\left (t \\right )}} + \\frac{6 \\frac{d}{d t} a{\\left (t \\right )}^{2}}{a^{2}{\\left (t \\right )}} + \\frac{6}{a^{2}{\\left (t \\right )}}$$"
      ],
      "text/plain": [
       "    2                              \n",
       "   d                      2        \n",
       "6⋅───(a(t))     ⎛d       ⎞         \n",
       "    2         6⋅⎜──(a(t))⎟         \n",
       "  dt            ⎝dt      ⎠      6  \n",
       "─────────── + ───────────── + ─────\n",
       "    a(t)           2           2   \n",
       "                  a (t)       a (t)"
      ]
     },
     "execution_count": 10,
     "metadata": {},
     "output_type": "execute_result"
    }
   ],
   "source": [
    "expand(Ricci_scalar(d,u,g,gin))"
   ]
  },
  {
   "cell_type": "code",
   "execution_count": 11,
   "metadata": {
    "collapsed": false
   },
   "outputs": [
    {
     "data": {
      "image/png": "[encoded data removed]",
      "text/latex": [
       "$$\\frac{1}{a^{2}{\\left (t \\right )}} \\left(3.0 \\frac{d}{d t} a{\\left (t \\right )}^{2} + 3.0\\right)$$"
      ],
      "text/plain": [
       "    ⎛          2    ⎞\n",
       "    ⎜⎛d       ⎞     ⎟\n",
       "3.0⋅⎜⎜──(a(t))⎟  + 1⎟\n",
       "    ⎝⎝dt      ⎠     ⎠\n",
       "─────────────────────\n",
       "         2           \n",
       "        a (t)        "
      ]
     },
     "execution_count": 11,
     "metadata": {},
     "output_type": "execute_result"
    }
   ],
   "source": [
    "simplify(Einstein_Equation_ab(d,u,g,gin,0,0))"
   ]
  },
  {
   "cell_type": "code",
   "execution_count": 12,
   "metadata": {
    "collapsed": false
   },
   "outputs": [
    {
     "data": {
      "image/png": "[encoded data removed]",
      "text/latex": [
       "$$- 2.0 a{\\left (t \\right )} \\frac{d^{2}}{d t^{2}}  a{\\left (t \\right )} - 1.0 \\frac{d}{d t} a{\\left (t \\right )}^{2} - 1.0$$"
      ],
      "text/plain": [
       "             2                       2      \n",
       "            d              ⎛d       ⎞       \n",
       "- 2.0⋅a(t)⋅───(a(t)) - 1.0⋅⎜──(a(t))⎟  - 1.0\n",
       "             2             ⎝dt      ⎠       \n",
       "           dt                               "
      ]
     },
     "execution_count": 12,
     "metadata": {},
     "output_type": "execute_result"
    }
   ],
   "source": [
    "simplify(Einstein_Equation_ab(d,u,g,gin,1,1))"
   ]
  },
  {
   "cell_type": "code",
   "execution_count": 13,
   "metadata": {
    "collapsed": false
   },
   "outputs": [
    {
     "data": {
      "image/png": "[encoded data removed]",
      "text/latex": [
       "$$- \\left(2.0 a{\\left (t \\right )} \\frac{d^{2}}{d t^{2}}  a{\\left (t \\right )} + 1.0 \\frac{d}{d t} a{\\left (t \\right )}^{2} + 1.0\\right) \\sin^{2}{\\left (\\psi \\right )}$$"
      ],
      "text/plain": [
       " ⎛           2                       2      ⎞        \n",
       " ⎜          d              ⎛d       ⎞       ⎟    2   \n",
       "-⎜2.0⋅a(t)⋅───(a(t)) + 1.0⋅⎜──(a(t))⎟  + 1.0⎟⋅sin (ψ)\n",
       " ⎜           2             ⎝dt      ⎠       ⎟        \n",
       " ⎝         dt                               ⎠        "
      ]
     },
     "execution_count": 13,
     "metadata": {},
     "output_type": "execute_result"
    }
   ],
   "source": [
    "simplify(Einstein_Equation_ab(d,u,g,gin,2,2))"
   ]
  },
  {
   "cell_type": "code",
   "execution_count": null,
   "metadata": {
    "collapsed": true
   },
   "outputs": [],
   "source": []
  }
 ],
 "metadata": {
  "anaconda-cloud": {},
  "kernelspec": {
   "display_name": "Python [conda root]",
   "language": "python",
   "name": "conda-root-py"
  },
  "language_info": {
   "codemirror_mode": {
    "name": "ipython",
    "version": 3
   },
   "file_extension": ".py",
   "mimetype": "text/x-python",
   "name": "python",
   "nbconvert_exporter": "python",
   "pygments_lexer": "ipython3",
   "version": "3.5.2"
  }
 },
 "nbformat": 4,
 "nbformat_minor": 1
}
